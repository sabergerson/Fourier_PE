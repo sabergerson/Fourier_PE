{
 "cells": [
  {
   "cell_type": "markdown",
   "id": "58a2838e",
   "metadata": {},
   "source": [
    "### Trainable Fourier PEs\n",
    "Paper: Learnable Fourier Features for Multi-Dimensional Spatial Positional Encoding (https://arxiv.org/pdf/2106.02795.pdf)  \n",
    "Original Implementation: willGuimont (https://github.com/willGuimont/learnable_fourier_positional_encoding)"
   ]
  },
  {
   "cell_type": "code",
   "execution_count": 9,
   "id": "5ec68a87",
   "metadata": {},
   "outputs": [],
   "source": [
    "import numpy as np\n",
    "import torch\n",
    "import torch.nn as nn"
   ]
  },
  {
   "cell_type": "code",
   "execution_count": 10,
   "id": "2737356b",
   "metadata": {},
   "outputs": [],
   "source": [
    "class FourierPE(nn.Module):\n",
    "\n",
    "    # Compute Fourier feature PE of multi-dim. position\n",
    "    # G: positional groups\n",
    "    # M: M-dimensional positional values\n",
    "    # F: depth of Fourier feature dim.\n",
    "    # H: hidden layer dim.\n",
    "    # D: positional encoding dim.\n",
    "    # gamma: parameter to initialize Wr\n",
    "    \n",
    "    def __init__(self, G: int, M: int, F: int, H: int, D: int, gamma: float):\n",
    "        super().__init__()\n",
    "        self.G = G\n",
    "        self.M = M\n",
    "        \n",
    "        # Hyperparameters\n",
    "        self.F = F\n",
    "        self.H = H\n",
    "        self.D = D\n",
    "        self.gamma = gamma\n",
    "\n",
    "        # Projection Matrix\n",
    "        self.Wr = nn.Linear(self.M, self.F // 2, bias=False)\n",
    "        \n",
    "        # MLP\n",
    "        self.mlp = nn.Sequential(\n",
    "            nn.Linear(self.F, self.H, bias=True),\n",
    "            nn.GELU(),\n",
    "            nn.Linear(self.H, self.D // self.G)\n",
    "        )\n",
    "\n",
    "        self.init_weights()\n",
    "\n",
    "    # Wr Initialization\n",
    "    def init_weights(self):\n",
    "        nn.init.normal_(self.Wr.weight.data, mean=0, std=self.gamma ** -2)\n",
    "\n",
    "    # Produce positional encodings from x\n",
    "    # x: tensor of shape [N, G, M]\n",
    "    # returns: positional encoding for X\n",
    "    \n",
    "    def forward(self, x):\n",
    "        N, G, M = x.shape\n",
    "        \n",
    "        # Fourier Features\n",
    "        projected = self.Wr(x)\n",
    "        cosines = torch.cos(projected)\n",
    "        sines = torch.sin(projected)\n",
    "        F = 1 / np.sqrt(self.F) * torch.cat([cosines, sines], dim=-1)\n",
    "        \n",
    "        # Projected Fourier Features\n",
    "        Y = self.mlp(F)\n",
    "        \n",
    "        # Reshape Output\n",
    "        PEx = Y.reshape((N, self.D))\n",
    "        \n",
    "        return PEx"
   ]
  },
  {
   "cell_type": "code",
   "execution_count": 12,
   "id": "a4efbedf",
   "metadata": {},
   "outputs": [
    {
     "name": "stdout",
     "output_type": "stream",
     "text": [
      "torch.Size([97, 768])\n"
     ]
    }
   ],
   "source": [
    "# Test\n",
    "if __name__ == '__main__':\n",
    "    G = 3\n",
    "    M = 17\n",
    "    \n",
    "    # Input\n",
    "    x = torch.randn((97, G, M))\n",
    "    enc = FourierPE(G, M, 768, 32, 768, 10)\n",
    "    \n",
    "    # Output\n",
    "    pex = enc(x)\n",
    "    print(pex.shape)"
   ]
  },
  {
   "cell_type": "code",
   "execution_count": 13,
   "id": "dbe4157d",
   "metadata": {},
   "outputs": [
    {
     "name": "stdout",
     "output_type": "stream",
     "text": [
      "tensor([[-0.0965,  0.0046,  0.0877,  ..., -0.1737, -0.0644,  0.0150],\n",
      "        [-0.0967,  0.0047,  0.0879,  ..., -0.1740, -0.0649,  0.0148],\n",
      "        [-0.0968,  0.0048,  0.0880,  ..., -0.1738, -0.0646,  0.0149],\n",
      "        ...,\n",
      "        [-0.0966,  0.0046,  0.0878,  ..., -0.1737, -0.0648,  0.0151],\n",
      "        [-0.0968,  0.0047,  0.0878,  ..., -0.1735, -0.0650,  0.0149],\n",
      "        [-0.0967,  0.0046,  0.0879,  ..., -0.1732, -0.0647,  0.0150]],\n",
      "       grad_fn=<ReshapeAliasBackward0>)\n"
     ]
    }
   ],
   "source": [
    "print(pex)"
   ]
  }
 ],
 "metadata": {
  "kernelspec": {
   "display_name": "Python 3",
   "language": "python",
   "name": "python3"
  },
  "language_info": {
   "codemirror_mode": {
    "name": "ipython",
    "version": 3
   },
   "file_extension": ".py",
   "mimetype": "text/x-python",
   "name": "python",
   "nbconvert_exporter": "python",
   "pygments_lexer": "ipython3",
   "version": "3.6.13"
  }
 },
 "nbformat": 4,
 "nbformat_minor": 5
}
